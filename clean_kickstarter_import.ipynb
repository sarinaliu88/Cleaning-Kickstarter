{
 "cells": [
  {
   "cell_type": "code",
   "execution_count": 6,
   "metadata": {},
   "outputs": [],
   "source": [
    "import pandas as pd\n",
    "import glob\n",
    "import csv"
   ]
  },
  {
   "cell_type": "code",
   "execution_count": 4,
   "metadata": {},
   "outputs": [
    {
     "name": "stdout",
     "output_type": "stream",
     "text": [
      "../Desktop/raw_kickstarter_data/2017-10\n",
      "../Desktop/raw_kickstarter_data/2018-05\n",
      "../Desktop/raw_kickstarter_data/2018-02\n",
      "../Desktop/raw_kickstarter_data/2017-11\n",
      "../Desktop/raw_kickstarter_data/2018-03\n",
      "../Desktop/raw_kickstarter_data/2018-04\n",
      "../Desktop/raw_kickstarter_data/2016-11\n",
      "../Desktop/raw_kickstarter_data/2019-03\n",
      "../Desktop/raw_kickstarter_data/2019-04\n",
      "../Desktop/raw_kickstarter_data/2016-10\n",
      "../Desktop/raw_kickstarter_data/2019-02\n",
      "../Desktop/raw_kickstarter_data/2016-04\n",
      "../Desktop/raw_kickstarter_data/2016-03\n",
      "../Desktop/raw_kickstarter_data/2016-05\n",
      "../Desktop/raw_kickstarter_data/2018-10\n",
      "../Desktop/raw_kickstarter_data/2017-02\n",
      "../Desktop/raw_kickstarter_data/2017-05\n",
      "../Desktop/raw_kickstarter_data/2018-11\n",
      "../Desktop/raw_kickstarter_data/2017-04\n",
      "../Desktop/raw_kickstarter_data/2017-03\n",
      "../Desktop/raw_kickstarter_data/2018-08\n",
      "../Desktop/raw_kickstarter_data/2018-01\n",
      "../Desktop/raw_kickstarter_data/2018-06\n",
      "../Desktop/raw_kickstarter_data/2018-07\n",
      "../Desktop/raw_kickstarter_data/2018-09\n",
      "../Desktop/raw_kickstarter_data/2017-12\n",
      "../Desktop/raw_kickstarter_data/2016-12\n",
      "../Desktop/raw_kickstarter_data/2019-01\n",
      "../Desktop/raw_kickstarter_data/2016-09\n",
      "../Desktop/raw_kickstarter_data/2016-07\n",
      "../Desktop/raw_kickstarter_data/2016-06\n",
      "../Desktop/raw_kickstarter_data/2016-01\n",
      "../Desktop/raw_kickstarter_data/2016-08\n",
      "../Desktop/raw_kickstarter_data/2017-06\n",
      "../Desktop/raw_kickstarter_data/2017-01\n",
      "../Desktop/raw_kickstarter_data/2017-08\n",
      "../Desktop/raw_kickstarter_data/2017-09\n",
      "../Desktop/raw_kickstarter_data/2017-07\n",
      "../Desktop/raw_kickstarter_data/2018-12\n"
     ]
    }
   ],
   "source": [
    "### IMPORT DATA\n",
    "path1 = \"../Desktop/raw_kickstarter_data/\"\n",
    "path2 = \"../Desktop/cleaned_kickstarter_data/\"\n",
    "\n",
    "# import data\n",
    "first = True\n",
    "for foldername in glob.glob(path1 + \"*\"):\n",
    "    print(foldername)\n",
    "    frames = []\n",
    "    for filename in glob.glob(foldername + \"/*.csv\"):\n",
    "        if first == True:\n",
    "            df = pd.read_csv(filename) # only need header once\n",
    "            first = False\n",
    "        else:\n",
    "            df = pd.read_csv(filename, header = 0) \n",
    "        frames.append(df)"
   ]
  },
  {
   "cell_type": "code",
   "execution_count": 5,
   "metadata": {},
   "outputs": [],
   "source": [
    "### SAVE DATAFRAME\n",
    "\n",
    "df1 = pd.concat(frames, axis = 0, join = 'inner')\n",
    "df1.to_pickle('Store_dataframes.pkl')"
   ]
  },
  {
   "cell_type": "code",
   "execution_count": 10,
   "metadata": {},
   "outputs": [],
   "source": []
  },
  {
   "cell_type": "code",
   "execution_count": null,
   "metadata": {},
   "outputs": [],
   "source": []
  },
  {
   "cell_type": "code",
   "execution_count": null,
   "metadata": {},
   "outputs": [],
   "source": []
  },
  {
   "cell_type": "code",
   "execution_count": null,
   "metadata": {},
   "outputs": [],
   "source": []
  }
 ],
 "metadata": {
  "kernelspec": {
   "display_name": "Python 3",
   "language": "python",
   "name": "python3"
  },
  "language_info": {
   "codemirror_mode": {
    "name": "ipython",
    "version": 3
   },
   "file_extension": ".py",
   "mimetype": "text/x-python",
   "name": "python",
   "nbconvert_exporter": "python",
   "pygments_lexer": "ipython3",
   "version": "3.6.8"
  }
 },
 "nbformat": 4,
 "nbformat_minor": 2
}

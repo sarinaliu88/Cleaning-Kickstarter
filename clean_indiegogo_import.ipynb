{
 "cells": [
  {
   "cell_type": "code",
   "execution_count": 1,
   "metadata": {},
   "outputs": [],
   "source": [
    "import pandas as pd\n",
    "import glob\n",
    "import numpy as np\n",
    "from datetime import timedelta\n",
    "from datetime import datetime\n",
    "from collections import Counter\n",
    "import statistics\n",
    "import matplotlib.pyplot as plt"
   ]
  },
  {
   "cell_type": "code",
   "execution_count": 2,
   "metadata": {},
   "outputs": [
    {
     "name": "stdout",
     "output_type": "stream",
     "text": [
      "../Desktop/raw_indiegogo_data/Indiegogo_2019-07-12T10_43_44_180Z.json\n",
      "../Desktop/raw_indiegogo_data/Indiegogo_2018-06-15T10_40_30_145Z.json\n",
      "../Desktop/raw_indiegogo_data/Indiegogo_2018-03-16T10_40_19_065Z.json\n",
      "../Desktop/raw_indiegogo_data/Indiegogo_2019-03-15T10_40_03_647Z.json\n",
      "../Desktop/raw_indiegogo_data/Indiegogo_2019-02-15T10_40_11_967Z.json\n",
      "../Desktop/raw_indiegogo_data/Indiegogo_2018-09-14T10_40_03_473Z.json\n",
      "../Desktop/raw_indiegogo_data/Indiegogo_2018-02-16T10_41_02_245Z.json\n",
      "../Desktop/raw_indiegogo_data/Indiegogo_2018-07-13T10_40_09_705Z.json\n",
      "../Desktop/raw_indiegogo_data/Indiegogo_2018-08-17T10_40_24_782Z.json\n",
      "../Desktop/raw_indiegogo_data/Indiegogo_2018-12-14T10_41_01_757Z.json\n",
      "../Desktop/raw_indiegogo_data/Indiegogo_2018-04-13T10_40_14_474Z.json\n",
      "../Desktop/raw_indiegogo_data/Indiegogo_2019-05-17T10_40_02_625Z.json\n",
      "../Desktop/raw_indiegogo_data/Indiegogo_2019-04-12T10_40_02_572Z.json\n",
      "../Desktop/raw_indiegogo_data/Indiegogo_2019-01-18T10_40_13_766Z.json\n",
      "../Desktop/raw_indiegogo_data/Indiegogo_2018-05-11T10_40_20_588Z.json\n",
      "../Desktop/raw_indiegogo_data/Indiegogo_2019-06-14T10_40_04_305Z.json\n",
      "../Desktop/raw_indiegogo_data/Indiegogo_2018-11-16T10_40_36_940Z.json\n",
      "../Desktop/raw_indiegogo_data/Indiegogo_2018-01-12T10_40_22_639Z.json\n"
     ]
    }
   ],
   "source": [
    "### IMPORT DATA\n",
    "path1 = \"../Desktop/raw_indiegogo_data/\"\n",
    "\n",
    "# import data\n",
    "frames = []\n",
    "for filename in glob.glob(path1 + \"*\"):\n",
    "    print(filename)\n",
    "    df = pd.read_json(filename, lines=True)\n",
    "    frames.append(df)"
   ]
  },
  {
   "cell_type": "code",
   "execution_count": 3,
   "metadata": {},
   "outputs": [],
   "source": [
    "df1 = pd.DataFrame()\n",
    "df1 = pd.concat(frames, axis = 0, join = 'inner')"
   ]
  },
  {
   "cell_type": "code",
   "execution_count": 5,
   "metadata": {},
   "outputs": [],
   "source": [
    "# set up dataframe for this additional data\n",
    "project_id = []\n",
    "created_at = []\n",
    "deadline = []\n",
    "category = []\n",
    "goal = []\n",
    "pledged = []\n",
    "pg = []\n",
    "state = []\n",
    "country = []\n",
    "in_demand = []\n",
    "\n",
    "for i in df1['data']:\n",
    "    if i['project_id'] != None and i['category'] != None and i['open_date'] != None and i['close_date'] != None and i['funds_raised_amount'] != None and i['funds_raised_percent'] != None and i['currency'] != None:\n",
    "        project_id.append(i['project_id'])\n",
    "        category.append(i['category'])\n",
    "        str_open_date = i['open_date'][0:10]\n",
    "        datetime_open_date = datetime.strptime(str_open_date, '%Y-%m-%d')\n",
    "        created_at.append(datetime_open_date)\n",
    "        str_close_date = i['close_date'][0:10]\n",
    "        datetime_close_date = datetime.strptime(str_close_date, '%Y-%m-%d')\n",
    "        deadline.append(datetime_close_date)\n",
    "        pledged.append(i['funds_raised_amount'])\n",
    "        if i['funds_raised_percent'] != 0:\n",
    "            goal.append(i['funds_raised_amount'] / i['funds_raised_percent'])\n",
    "        else:\n",
    "            goal.append(-1)\n",
    "        pg.append(i['funds_raised_percent'])\n",
    "        if i['funds_raised_percent'] >= 1:\n",
    "            state.append('successful')\n",
    "        else:\n",
    "            state.append('failed')\n",
    "        country.append(i['currency'])\n",
    "        in_demand.append(i['is_indemand'])\n",
    "\n",
    "df_all = pd.DataFrame()\n",
    "df_all['id'] = project_id\n",
    "df_all['created_at'] = created_at\n",
    "df_all['deadline'] = deadline\n",
    "df_all['category'] = category\n",
    "df_all['goal'] = goal\n",
    "df_all['usd_pledged'] = pledged\n",
    "df_all['P/G'] = pg\n",
    "df_all['state'] = state\n",
    "df_all['country'] = country\n",
    "df_all['in_demand'] = in_demand\n",
    "\n",
    "# convert epoch to datetime\n",
    "df_all['created_at'] = pd.to_datetime(df_all['created_at'], unit = 's')\n",
    "df_all['deadline'] = pd.to_datetime(df_all['deadline'], unit = 's')\n",
    "\n",
    "# calculate duration of the project in months\n",
    "df_all['duration'] = (df_all['deadline'] - df_all['created_at']) / np.timedelta64(1, 'M')\n",
    "\n",
    "# convert date to month/year format for created at and deadline\n",
    "df_all['Created At Month/Year'] = df_all['created_at'].apply(lambda x: \"%d/%d\" % (x.month, x.year))\n",
    "df_all['Deadline Month/Year'] = df_all['deadline'].apply(lambda x: \"%d/%d\" % (x.month, x.year))\n",
    "\n",
    "# convert date to month/year format for created at and deadline\n",
    "df_all['Created At Year'] = df_all['created_at'].dt.year\n",
    "df_all['Deadline Year'] = df_all['deadline'].dt.year\n",
    "\n",
    "# only keep US companies\n",
    "#df_all = df_all.loc[(df_all['country'] == 'USD')]\n",
    "\n",
    "# remove duplicates\n",
    "df_all = df_all.drop_duplicates('id')\n",
    "\n",
    "# rearranging columns\n",
    "df_all = df_all[['id','category','created_at','Created At Month/Year','Created At Year','deadline','Deadline Month/Year','Deadline Year',\n",
    "         'duration','goal','usd_pledged', 'P/G','state','country', 'in_demand']]\n",
    "\n",
    "df_minusgoal = df_all.loc[df_all['goal'] > 0]"
   ]
  },
  {
   "cell_type": "code",
   "execution_count": 7,
   "metadata": {},
   "outputs": [
    {
     "name": "stdout",
     "output_type": "stream",
     "text": [
      "0         USD\n",
      "1         USD\n",
      "2         USD\n",
      "3         USD\n",
      "4         USD\n",
      "5         USD\n",
      "6         USD\n",
      "7         USD\n",
      "8         USD\n",
      "9         GBP\n",
      "10        USD\n",
      "11        EUR\n",
      "12        USD\n",
      "13        GBP\n",
      "14        USD\n",
      "15        USD\n",
      "16        CAD\n",
      "17        USD\n",
      "18        USD\n",
      "19        USD\n",
      "20        USD\n",
      "21        USD\n",
      "22        USD\n",
      "23        USD\n",
      "24        USD\n",
      "25        USD\n",
      "26        GBP\n",
      "27        USD\n",
      "28        USD\n",
      "29        USD\n",
      "         ... \n",
      "529363    EUR\n",
      "529364    USD\n",
      "529365    USD\n",
      "529369    EUR\n",
      "529448    USD\n",
      "529481    USD\n",
      "529483    USD\n",
      "529488    USD\n",
      "529490    CAD\n",
      "529501    USD\n",
      "529506    USD\n",
      "529507    USD\n",
      "529508    USD\n",
      "529510    USD\n",
      "529511    USD\n",
      "529520    USD\n",
      "529521    USD\n",
      "529540    USD\n",
      "529546    USD\n",
      "529553    USD\n",
      "529557    USD\n",
      "529579    USD\n",
      "529596    USD\n",
      "529661    CAD\n",
      "529683    USD\n",
      "529687    USD\n",
      "529693    USD\n",
      "529699    USD\n",
      "529701    USD\n",
      "529703    USD\n",
      "Name: country, Length: 58611, dtype: object\n"
     ]
    }
   ],
   "source": [
    "print(df_all['country'])"
   ]
  },
  {
   "cell_type": "code",
   "execution_count": 11,
   "metadata": {},
   "outputs": [],
   "source": [
    "### SAVE DATAFRAME\n",
    "\n",
    "df_all.to_pickle('../Desktop/saved_dataframes/Store_indiegogo_dataframes.pkl')\n",
    "df_minusgoal.to_pickle('../Desktop/saved_dataframes/Store_indiegogo_dataframes_minusgoal.pkl')"
   ]
  },
  {
   "cell_type": "code",
   "execution_count": 9,
   "metadata": {},
   "outputs": [
    {
     "name": "stdout",
     "output_type": "stream",
     "text": [
      "58611\n",
      "53104\n"
     ]
    }
   ],
   "source": [
    "print(len(df_all))\n",
    "print(len(df_minusgoal))"
   ]
  },
  {
   "cell_type": "code",
   "execution_count": null,
   "metadata": {},
   "outputs": [],
   "source": []
  }
 ],
 "metadata": {
  "kernelspec": {
   "display_name": "Python 3",
   "language": "python",
   "name": "python3"
  },
  "language_info": {
   "codemirror_mode": {
    "name": "ipython",
    "version": 3
   },
   "file_extension": ".py",
   "mimetype": "text/x-python",
   "name": "python",
   "nbconvert_exporter": "python",
   "pygments_lexer": "ipython3",
   "version": "3.6.8"
  }
 },
 "nbformat": 4,
 "nbformat_minor": 2
}

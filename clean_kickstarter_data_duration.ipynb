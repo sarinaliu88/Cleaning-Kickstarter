{
 "cells": [
  {
   "cell_type": "code",
   "execution_count": 41,
   "metadata": {},
   "outputs": [],
   "source": [
    "import pandas as pd\n",
    "import glob\n",
    "import collections\n",
    "from collections import Counter\n",
    "import time\n",
    "from datetime import timedelta\n",
    "import csv\n",
    "import numpy as np\n",
    "import matplotlib.pyplot as plt\n",
    "from collections import OrderedDict\n",
    "from datetime import datetime\n",
    "import statistics"
   ]
  },
  {
   "cell_type": "code",
   "execution_count": 2,
   "metadata": {},
   "outputs": [
    {
     "name": "stdout",
     "output_type": "stream",
     "text": [
      "../Desktop/raw_kickstarter_data/2017-10\n",
      "../Desktop/raw_kickstarter_data/2018-05\n",
      "../Desktop/raw_kickstarter_data/2018-02\n",
      "../Desktop/raw_kickstarter_data/2017-11\n",
      "../Desktop/raw_kickstarter_data/2018-03\n",
      "../Desktop/raw_kickstarter_data/2018-04\n",
      "../Desktop/raw_kickstarter_data/2016-11\n",
      "../Desktop/raw_kickstarter_data/2019-03\n",
      "../Desktop/raw_kickstarter_data/2019-04\n",
      "../Desktop/raw_kickstarter_data/2016-10\n",
      "../Desktop/raw_kickstarter_data/2019-02\n",
      "../Desktop/raw_kickstarter_data/2016-04\n",
      "../Desktop/raw_kickstarter_data/2016-03\n",
      "../Desktop/raw_kickstarter_data/2016-05\n",
      "../Desktop/raw_kickstarter_data/2018-10\n",
      "../Desktop/raw_kickstarter_data/2017-02\n",
      "../Desktop/raw_kickstarter_data/2017-05\n",
      "../Desktop/raw_kickstarter_data/2018-11\n",
      "../Desktop/raw_kickstarter_data/2017-04\n",
      "../Desktop/raw_kickstarter_data/2017-03\n",
      "../Desktop/raw_kickstarter_data/2018-08\n",
      "../Desktop/raw_kickstarter_data/2018-01\n",
      "../Desktop/raw_kickstarter_data/2018-06\n",
      "../Desktop/raw_kickstarter_data/2018-07\n",
      "../Desktop/raw_kickstarter_data/2018-09\n",
      "../Desktop/raw_kickstarter_data/2017-12\n",
      "../Desktop/raw_kickstarter_data/2016-12\n",
      "../Desktop/raw_kickstarter_data/2019-01\n",
      "../Desktop/raw_kickstarter_data/2016-09\n",
      "../Desktop/raw_kickstarter_data/2016-07\n",
      "../Desktop/raw_kickstarter_data/2016-06\n",
      "../Desktop/raw_kickstarter_data/2016-01\n",
      "../Desktop/raw_kickstarter_data/2016-08\n",
      "../Desktop/raw_kickstarter_data/2017-06\n",
      "../Desktop/raw_kickstarter_data/2017-01\n",
      "../Desktop/raw_kickstarter_data/2017-08\n",
      "../Desktop/raw_kickstarter_data/2017-09\n",
      "../Desktop/raw_kickstarter_data/2017-07\n",
      "../Desktop/raw_kickstarter_data/2018-12\n"
     ]
    }
   ],
   "source": [
    "# load data as dataframe\n",
    "path1 = \"../Desktop/raw_kickstarter_data/\"\n",
    "path2 = \"../Desktop/cleaned_kickstarter_data/\"\n",
    "count = 0\n",
    "for foldername in glob.glob(path1 + \"*\"):\n",
    "    print(foldername)\n",
    "    # import data\n",
    "    frames = []\n",
    "    for filename in glob.glob(foldername + \"/*.csv\"):\n",
    "        if count == 0:\n",
    "            df = pd.read_csv(filename)\n",
    "            count += 1\n",
    "        else:\n",
    "            df = pd.read_csv(filename, header = 0)\n",
    "        frames.append(df)"
   ]
  },
  {
   "cell_type": "code",
   "execution_count": 4,
   "metadata": {},
   "outputs": [],
   "source": [
    "### INITIAL DATA CLEANING\n",
    "\n",
    "projects_id = []\n",
    "df1 = pd.DataFrame()\n",
    "df1_success = pd.DataFrame()\n",
    "df1_fail = pd.DataFrame()\n",
    "\n",
    "# 2016-2019 data\n",
    "df1 = pd.concat(frames, axis = 0, join = 'inner')\n",
    "\n",
    "# remove unnecessary columns\n",
    "to_drop = ['blurb','currency','currency_symbol','disable_communication','launched_at',\n",
    "           'location','photo','pledged','profile','slug','spotlight','staff_pick',\n",
    "           'state_changed_at','static_usd_rate']\n",
    "df1.drop(to_drop, inplace=True, axis=1)\n",
    "\n",
    "category_id1 = []\n",
    "creator_id1 = []\n",
    "category_name1 = []\n",
    "url1 = []\n",
    "\n",
    "# extract category id\n",
    "for c1 in df1['category']:\n",
    "    start_idx = c1.find('\"id\":') + 5\n",
    "    end_idx1 = c1.find('\"position\":') - 1\n",
    "    end_idx2 = c1.find('\"name\":') - 1\n",
    "    end_idx = 0\n",
    "    if (start_idx < end_idx1 and start_idx < end_idx2):\n",
    "        end_idx = min(end_idx1, end_idx2)\n",
    "    else:\n",
    "        end_idx = max(end_idx1, end_idx2)\n",
    "    category_id1.append(c1[start_idx:end_idx])\n",
    "\n",
    "# extract creator id\n",
    "for c2 in df1['creator']:\n",
    "    start_idx = c2.find('\"id\":') + 5\n",
    "    end_idx1 = c2.find('\"avatar\":') - 1\n",
    "    end_idx2 = c2.find('\"name\":') - 1\n",
    "    end_idx = 0\n",
    "    if (start_idx < end_idx1 and start_idx < end_idx2):\n",
    "        end_idx = min(end_idx1, end_idx2)\n",
    "    else:\n",
    "        end_idx = max(end_idx1, end_idx2)\n",
    "    creator_id1.append(c2[start_idx:end_idx])\n",
    "\n",
    "# extract category name\n",
    "for c3 in df1['category']:\n",
    "    start_idx = c3.find('\"slug\":') + 8\n",
    "    end_idx = c3.find('\"position\":') - 2\n",
    "    category_name1.append(c3[start_idx:end_idx])\n",
    "\n",
    "# extract project url\n",
    "for u1 in df1['urls']:\n",
    "    start_idx = u1.find('\"project\":\"') + 11\n",
    "    end_idx = u1.find('\"rewards\":') - 2\n",
    "    url1.append(u1[start_idx:end_idx])\n",
    "\n",
    "# define new columns\n",
    "df1['category_id'] = category_id1\n",
    "df1['creator_id'] = creator_id1\n",
    "df1['category_name'] = category_name1\n",
    "df1['url'] = url1\n",
    "\n",
    "# rearranging columns\n",
    "df1 = df1[['creator_id','id','name','created_at','deadline','category_id','category_name',\n",
    "           'goal','usd_pledged','backers_count','state','url', 'country']]\n",
    "\n",
    "# convert epoch to datetime\n",
    "df1['created_at'] = pd.to_datetime(df1['created_at'],unit='s')\n",
    "df1['deadline'] = pd.to_datetime(df1['deadline'],unit='s')\n",
    "\n",
    "# only keep US companies that were not cancelled\n",
    "df1 = df1.loc[(df1['country'] == 'US') & (df1['state'].isin(['successful','failed'])) & \n",
    "                  (df1['goal'] > 25000) & (df1['usd_pledged'] > 2500)]\n",
    "df1_success = df1.loc[(df1['country'] == 'US') & (df1['state'] == 'successful') & \n",
    "                      (df1['goal'] > 25000) & (df1['usd_pledged'] > 2500)]\n",
    "df1_fail = df1.loc[(df1['country'] == 'US') & (df1['state'] == 'failed') & \n",
    "                       (df1['goal'] > 25000)& (df1['usd_pledged'] > 2500)]\n",
    "df1.drop(['country'], inplace = True, axis = 1)\n",
    "df1_success.drop(['country'], inplace = True, axis = 1)\n",
    "df1_fail.drop(['country'], inplace = True, axis = 1)\n",
    "\n",
    "# remove duplicates\n",
    "df1 = df1.drop_duplicates('id')\n",
    "projects_id = projects_id + list(df1['id'])\n",
    "df1_success = df1_success.drop_duplicates('id')\n",
    "df1_fail = df1_fail.drop_duplicates('id')\n"
   ]
  },
  {
   "cell_type": "code",
   "execution_count": 45,
   "metadata": {},
   "outputs": [
    {
     "data": {
      "image/png": "[encoded data removed]",
      "text/plain": [
       "<Figure size 432x288 with 1 Axes>"
      ]
     },
     "metadata": {
      "needs_background": "light"
     },
     "output_type": "display_data"
    }
   ],
   "source": [
    "df2 = df1.copy()\n",
    "\n",
    "df2['duration'] = (df2['deadline'] - df2['created_at']) / np.timedelta64(1,'M')\n",
    "new_dict = {}\n",
    "\n",
    "for i in range(31):\n",
    "    new_dict[i] = 0\n",
    "for j in df2['duration']:\n",
    "    if round(j) < 30:\n",
    "        new_dict[round(j)] += 1\n",
    "    else:\n",
    "        new_dict[30] += 1\n",
    "\n",
    "plt.scatter(new_dict.keys(),new_dict.values())\n",
    "plt.xlabel('Number of Months')\n",
    "plt.ylabel('Projects')\n",
    "plt.title('Duration of Projects')\n",
    "plt.show()"
   ]
  },
  {
   "cell_type": "code",
   "execution_count": 44,
   "metadata": {},
   "outputs": [
    {
     "data": {
      "image/png": "[encoded data removed]",
      "text/plain": [
       "<Figure size 432x288 with 1 Axes>"
      ]
     },
     "metadata": {
      "needs_background": "light"
     },
     "output_type": "display_data"
    }
   ],
   "source": [
    "df2_success = df1_success.copy()\n",
    "\n",
    "df2_success['duration'] = (df2_success['deadline'] - df2_success['created_at']) / np.timedelta64(1,'M')\n",
    "new_dict_success = {}\n",
    "\n",
    "for i in range(31):\n",
    "    new_dict_success[i] = 0\n",
    "for j in df2_success['duration']:\n",
    "    if round(j) < 30:\n",
    "        new_dict_success[round(j)] += 1\n",
    "    else:\n",
    "        new_dict_success[30] += 1\n",
    "\n",
    "plt.scatter(new_dict_success.keys(),new_dict_success.values())\n",
    "plt.xlabel('Number of Months')\n",
    "plt.ylabel('Projects')\n",
    "plt.title('Duration of Successful Projects')\n",
    "plt.show()"
   ]
  },
  {
   "cell_type": "code",
   "execution_count": 43,
   "metadata": {},
   "outputs": [
    {
     "data": {
      "image/png": "[encoded data removed]",
      "text/plain": [
       "<Figure size 432x288 with 1 Axes>"
      ]
     },
     "metadata": {
      "needs_background": "light"
     },
     "output_type": "display_data"
    }
   ],
   "source": [
    "new_dict_success_rate = {}\n",
    "\n",
    "for i in new_dict.keys():\n",
    "    new_dict_success_rate[i] = new_dict_success[i] / new_dict[i]\n",
    "    \n",
    "plt.scatter(new_dict_success_rate.keys(),new_dict_success_rate.values())\n",
    "plt.xlabel('Number of Months')\n",
    "plt.ylabel('Probability of Success')\n",
    "plt.title('Duration')\n",
    "plt.show()"
   ]
  },
  {
   "cell_type": "code",
   "execution_count": null,
   "metadata": {},
   "outputs": [],
   "source": []
  },
  {
   "cell_type": "code",
   "execution_count": null,
   "metadata": {},
   "outputs": [],
   "source": []
  }
 ],
 "metadata": {
  "kernelspec": {
   "display_name": "Python 3",
   "language": "python",
   "name": "python3"
  },
  "language_info": {
   "codemirror_mode": {
    "name": "ipython",
    "version": 3
   },
   "file_extension": ".py",
   "mimetype": "text/x-python",
   "name": "python",
   "nbconvert_exporter": "python",
   "pygments_lexer": "ipython3",
   "version": "3.6.8"
  }
 },
 "nbformat": 4,
 "nbformat_minor": 2
}

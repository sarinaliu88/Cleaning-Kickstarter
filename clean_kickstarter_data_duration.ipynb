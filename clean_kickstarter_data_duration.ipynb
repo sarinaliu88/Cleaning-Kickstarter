{
 "cells": [
  {
   "cell_type": "code",
   "execution_count": 186,
   "metadata": {},
   "outputs": [],
   "source": [
    "import pandas as pd\n",
    "import glob\n",
    "import collections\n",
    "from collections import Counter\n",
    "import time\n",
    "from datetime import timedelta\n",
    "import csv\n",
    "import numpy as np\n",
    "import matplotlib.pyplot as plt\n",
    "from collections import OrderedDict\n",
    "from datetime import datetime\n",
    "from functools import reduce\n",
    "from scipy import stats"
   ]
  },
  {
   "cell_type": "code",
   "execution_count": 2,
   "metadata": {},
   "outputs": [
    {
     "name": "stdout",
     "output_type": "stream",
     "text": [
      "../Desktop/raw_kickstarter_data/2017-10\n",
      "../Desktop/raw_kickstarter_data/2018-05\n",
      "../Desktop/raw_kickstarter_data/2018-02\n",
      "../Desktop/raw_kickstarter_data/2017-11\n",
      "../Desktop/raw_kickstarter_data/2018-03\n",
      "../Desktop/raw_kickstarter_data/2018-04\n",
      "../Desktop/raw_kickstarter_data/2016-11\n",
      "../Desktop/raw_kickstarter_data/2019-03\n",
      "../Desktop/raw_kickstarter_data/2019-04\n",
      "../Desktop/raw_kickstarter_data/2016-10\n",
      "../Desktop/raw_kickstarter_data/2019-02\n",
      "../Desktop/raw_kickstarter_data/2016-04\n",
      "../Desktop/raw_kickstarter_data/2016-03\n",
      "../Desktop/raw_kickstarter_data/2016-05\n",
      "../Desktop/raw_kickstarter_data/2018-10\n",
      "../Desktop/raw_kickstarter_data/2017-02\n",
      "../Desktop/raw_kickstarter_data/2017-05\n",
      "../Desktop/raw_kickstarter_data/2018-11\n",
      "../Desktop/raw_kickstarter_data/2017-04\n",
      "../Desktop/raw_kickstarter_data/2017-03\n",
      "../Desktop/raw_kickstarter_data/2018-08\n",
      "../Desktop/raw_kickstarter_data/2018-01\n",
      "../Desktop/raw_kickstarter_data/2018-06\n",
      "../Desktop/raw_kickstarter_data/2018-07\n",
      "../Desktop/raw_kickstarter_data/2018-09\n",
      "../Desktop/raw_kickstarter_data/2017-12\n",
      "../Desktop/raw_kickstarter_data/2016-12\n",
      "../Desktop/raw_kickstarter_data/2019-01\n",
      "../Desktop/raw_kickstarter_data/2016-09\n",
      "../Desktop/raw_kickstarter_data/2016-07\n",
      "../Desktop/raw_kickstarter_data/2016-06\n",
      "../Desktop/raw_kickstarter_data/2016-01\n",
      "../Desktop/raw_kickstarter_data/2016-08\n",
      "../Desktop/raw_kickstarter_data/2017-06\n",
      "../Desktop/raw_kickstarter_data/2017-01\n",
      "../Desktop/raw_kickstarter_data/2017-08\n",
      "../Desktop/raw_kickstarter_data/2017-09\n",
      "../Desktop/raw_kickstarter_data/2017-07\n",
      "../Desktop/raw_kickstarter_data/2018-12\n"
     ]
    }
   ],
   "source": [
    "path1 = \"../Desktop/raw_kickstarter_data/\"\n",
    "path2 = \"../Desktop/cleaned_kickstarter_data/\"\n",
    "\n",
    "count = 0\n",
    "# import data\n",
    "for foldername in glob.glob(path1 + \"*\"):\n",
    "    print(foldername)\n",
    "    frames = []\n",
    "    for filename in glob.glob(foldername + \"/*.csv\"):\n",
    "        if count == 0:\n",
    "            df = pd.read_csv(filename)\n",
    "            count += 1\n",
    "        else:\n",
    "            df = pd.read_csv(filename, header = 0)\n",
    "        frames.append(df)"
   ]
  },
  {
   "cell_type": "code",
   "execution_count": 43,
   "metadata": {},
   "outputs": [],
   "source": [
    "### INITIAL DATA CLEANING\n",
    "\n",
    "projects_id = []\n",
    "df1 = pd.DataFrame()\n",
    "df1_success = pd.DataFrame()\n",
    "df1_fail = pd.DataFrame()\n",
    "\n",
    "df1 = pd.concat(frames, axis = 0, join = 'inner')\n",
    "\n",
    "# remove unnecessary columns\n",
    "to_drop = ['blurb','currency','currency_symbol','disable_communication','launched_at',\n",
    "           'location','photo','pledged','profile','slug','spotlight','staff_pick',\n",
    "           'state_changed_at','static_usd_rate']\n",
    "df1.drop(to_drop, inplace=True, axis=1)\n",
    "\n",
    "category_id1 = []\n",
    "creator_id1 = []\n",
    "category_name1 = []\n",
    "url1 = []\n",
    "\n",
    "# extract category id\n",
    "for c1 in df1['category']:\n",
    "    start_idx = c1.find('\"id\":') + 5\n",
    "    end_idx1 = c1.find('\"position\":') - 1\n",
    "    end_idx2 = c1.find('\"name\":') - 1\n",
    "    end_idx = 0\n",
    "    if (start_idx < end_idx1 and start_idx < end_idx2):\n",
    "        end_idx = min(end_idx1, end_idx2)\n",
    "    else:\n",
    "        end_idx = max(end_idx1, end_idx2)\n",
    "    category_id1.append(c1[start_idx:end_idx])\n",
    "\n",
    "# extract creator id\n",
    "for c2 in df1['creator']:\n",
    "    start_idx = c2.find('\"id\":') + 5\n",
    "    end_idx1 = c2.find('\"avatar\":') - 1\n",
    "    end_idx2 = c2.find('\"name\":') - 1\n",
    "    end_idx = 0\n",
    "    if (start_idx < end_idx1 and start_idx < end_idx2):\n",
    "        end_idx = min(end_idx1, end_idx2)\n",
    "    else:\n",
    "        end_idx = max(end_idx1, end_idx2)\n",
    "    creator_id1.append(c2[start_idx:end_idx])\n",
    "\n",
    "# extract category name\n",
    "for c3 in df1['category']:\n",
    "    start_idx = c3.find('\"slug\":') + 8\n",
    "    end_idx = c3.find('\"position\":') - 2\n",
    "    category_name1.append(c3[start_idx:end_idx])\n",
    "\n",
    "# extract project url\n",
    "for u1 in df1['urls']:\n",
    "    start_idx = u1.find('\"project\":\"') + 11\n",
    "    end_idx = u1.find('\"rewards\":') - 2\n",
    "    url1.append(u1[start_idx:end_idx])\n",
    "\n",
    "# define new columns\n",
    "df1['category_id'] = category_id1\n",
    "df1['creator_id'] = creator_id1\n",
    "df1['category_name'] = category_name1\n",
    "df1['url'] = url1\n",
    "\n",
    "# rearranging columns\n",
    "df1 = df1[['creator_id','id','name','created_at','deadline','category_id','category_name',\n",
    "           'goal','usd_pledged','backers_count','state','url', 'country']]\n",
    "\n",
    "# convert epoch to datetime\n",
    "df1['created_at'] = pd.to_datetime(df1['created_at'],unit='s')\n",
    "df1['deadline'] = pd.to_datetime(df1['deadline'],unit='s')\n",
    "\n",
    "# only keep US companies that were not cancelled\n",
    "df1 = df1.loc[(df1['country'] == 'US') & (df1['state'].isin(['successful','failed'])) & \n",
    "                  (df1['goal'] > 5000) & (df1['usd_pledged'] > 100)]\n",
    "df1_success = df1.loc[(df1['country'] == 'US') & (df1['state'] == 'successful') & \n",
    "                      (df1['goal'] > 5000) & (df1['usd_pledged'] > 100)]\n",
    "df1_fail = df1.loc[(df1['country'] == 'US') & (df1['state'] == 'failed') & \n",
    "                       (df1['goal'] > 5000)& (df1['usd_pledged'] > 100)]\n",
    "\n",
    "df1.drop(['country'], inplace = True, axis = 1)\n",
    "df1_success.drop(['country'], inplace = True, axis = 1)\n",
    "df1_fail.drop(['country'], inplace = True, axis = 1)\n",
    "\n",
    "# remove duplicates\n",
    "df1 = df1.drop_duplicates('id')\n",
    "projects_id = projects_id + list(df1['id'])\n",
    "df1_success = df1_success.drop_duplicates('id')\n",
    "df1_fail = df1_fail.drop_duplicates('id')\n"
   ]
  },
  {
   "cell_type": "code",
   "execution_count": 192,
   "metadata": {},
   "outputs": [
    {
     "name": "stdout",
     "output_type": "stream",
     "text": [
      "{0: 0.16033918732782368, 1: 15.541064049586776, 2: 47.99845041322314, 3: 72.07945936639119, 4: 82.06783746556474, 5: 87.13197314049587, 6: 90.22469008264463, 7: 92.20794593663912, 8: 93.59181301652893, 9: 94.6076532369146, 10: 95.3759900137741, 11: 95.96569387052341, 12: 96.48545110192838, 13: 96.93310950413223, 14: 97.29360365013774, 15: 97.58953168044077, 16: 97.84349173553719, 17: 98.055483815427, 18: 98.23626893939394, 19: 98.41813016528926, 20: 98.57416494490359, 21: 98.70760158402204, 22: 98.82920110192838, 23: 98.92497417355372, 24: 99.01967114325069, 25: 99.12835743801652, 26: 99.21229338842976, 27: 99.27470730027548, 28: 99.33389290633609, 29: 99.3887741046832, 30: 99.4393508953168, 31: 99.48024276859505, 32: 99.52328684573003, 33: 99.56310261707989, 34: 99.59538567493112, 35: 99.62982093663912, 36: 99.65672348484848, 37: 99.6814738292011, 38: 99.71052858126721, 39: 99.73958333333333, 40: 99.7664858815427, 41: 99.78693181818181, 42: 99.80522555096418, 43: 99.82244318181819, 44: 99.83750860881543, 45: 99.8471935261708, 46: 99.85795454545455, 47: 99.87086776859505, 48: 99.87732438016529, 49: 99.88378099173553, 50: 99.89131370523415, 51: 99.90099862258953, 52: 99.90745523415978, 53: 99.91283574380165, 54: 99.92252066115702, 55: 99.93005337465564, 56: 99.93435778236915, 57: 99.94189049586777, 58: 99.94619490358127, 59: 99.95049931129476, 60: 99.95587982093664, 61: 99.95695592286502, 62: 99.96233643250689, 63: 99.96879304407713, 64: 99.97417355371901, 65: 99.97632575757575, 66: 99.97632575757575, 67: 99.97955406336088, 68: 99.98063016528926, 69: 99.98278236914601, 70: 99.98601067493112, 71: 99.98923898071625, 72: 99.98923898071625, 73: 99.98923898071625, 74: 99.991391184573, 75: 99.991391184573, 76: 99.991391184573, 77: 99.99354338842976, 78: 99.9956955922865, 79: 99.9956955922865, 80: 99.99784779614325, 81: 99.99784779614325, 82: 99.99784779614325, 83: 99.99784779614325, 84: 99.99784779614325, 85: 100.0}\n"
     ]
    },
    {
     "data": {
      "text/plain": [
       "Text(0.5, 1.0, 'Percentile of All Projects')"
      ]
     },
     "execution_count": 192,
     "metadata": {},
     "output_type": "execute_result"
    },
    {
     "data": {
      "image/png": "[encoded data removed]",
      "text/plain": [
       "<Figure size 432x288 with 1 Axes>"
      ]
     },
     "metadata": {
      "needs_background": "light"
     },
     "output_type": "display_data"
    }
   ],
   "source": [
    "df2 = df1.copy()\n",
    "\n",
    "df2['duration'] = (df2['deadline'] - df2['created_at']) / np.timedelta64(1,'M')\n",
    "\n",
    "num_months = round(max(df2['duration']))\n",
    "\n",
    "# dictionary for all_projects\n",
    "new_dict = {}\n",
    "for i in range(num_months): # set up blank dictionary\n",
    "    new_dict[i] = 0\n",
    "for j in df2['duration']:\n",
    "    if round(j) < num_months - 1: # round duration into number of months\n",
    "        new_dict[round(j)] += 1\n",
    "    else:\n",
    "        new_dict[num_months - 1] += 1\n",
    "        \n",
    "lst = []\n",
    "for k,v in new_dict.items():\n",
    "    for i in range(v):\n",
    "        lst.append(k)\n",
    "\n",
    "dict_distr = {}\n",
    "for i in new_dict.keys():\n",
    "    dict_distr[i] = stats.percentileofscore(lst, i)\n",
    "    \n",
    "print(dict_distr)\n",
    "    \n",
    "plt.scatter(dict_distr.keys(),dict_distr.values())\n",
    "plt.xlabel('Number of Months')\n",
    "plt.ylabel('Percentile')\n",
    "plt.title('Percentile of All Projects')"
   ]
  },
  {
   "cell_type": "code",
   "execution_count": 191,
   "metadata": {},
   "outputs": [
    {
     "name": "stdout",
     "output_type": "stream",
     "text": [
      "{0: 0.14385666644870201, 1: 15.095141568037665, 2: 47.6230955339044, 3: 72.30268750408683, 4: 82.48708559471653, 5: 87.59399725364545, 6: 90.6346040672203, 7: 92.56849539004773, 8: 93.88609167593016, 9: 94.88327993199503, 10: 95.65650951415681, 11: 96.23847511933565, 12: 96.74851239129013, 13: 97.17681292094423, 14: 97.52174197345191, 15: 97.8258026548094, 16: 98.08899496501668, 17: 98.29333682076768, 18: 98.46988818413654, 19: 98.63336166873734, 20: 98.75596678218793, 21: 98.8720329562545, 22: 98.9962728045511, 23: 99.08454848623553, 24: 99.15811155430589, 25: 99.2414830314523, 26: 99.30196822075459, 27: 99.36081867521088, 28: 99.42130386451318, 29: 99.47198064473942, 30: 99.51775322042765, 31: 99.55044791734781, 32: 99.591316288498, 33: 99.62564572026417, 34: 99.64853200810829, 35: 99.68122670502845, 36: 99.70411299287255, 37: 99.72372981102465, 38: 99.74661609886877, 39: 99.77277185640489, 40: 99.80219708363303, 41: 99.82017916693913, 42: 99.83489178055319, 43: 99.84960439416727, 44: 99.86104753808932, 45: 99.86922121231936, 46: 99.88066435624141, 47: 99.89374223500948, 48: 99.8986464395475, 49: 99.90518537893153, 50: 99.91335905316157, 51: 99.92153272739162, 52: 99.92480219708364, 53: 99.92970640162166, 54: 99.9395148106977, 55: 99.94441901523572, 56: 99.94768848492774, 57: 99.95259268946577, 58: 99.95422742431178, 59: 99.9574968940038, 60: 99.9574968940038, 61: 99.9574968940038, 62: 99.96240109854182, 63: 99.96403583338783, 64: 99.97057477277185, 65: 99.97384424246387, 66: 99.97384424246387, 67: 99.97384424246387, 68: 99.97384424246387, 69: 99.97711371215588, 70: 99.9820179166939, 71: 99.98692212123194, 72: 99.98692212123194, 73: 99.98692212123194, 74: 99.98692212123194, 75: 99.98692212123194, 76: 99.98692212123194, 77: 99.99019159092396, 78: 99.99346106061597, 79: 99.99346106061597, 80: 99.99673053030799, 81: 99.99673053030799, 82: 99.99673053030799, 83: 99.99673053030799, 84: 99.99673053030799, 85: 100.0}\n"
     ]
    },
    {
     "data": {
      "text/plain": [
       "Text(0.5, 1.0, 'Percentile of Successful Projects')"
      ]
     },
     "execution_count": 191,
     "metadata": {},
     "output_type": "execute_result"
    },
    {
     "data": {
      "image/png": "[encoded data removed]",
      "text/plain": [
       "<Figure size 432x288 with 1 Axes>"
      ]
     },
     "metadata": {
      "needs_background": "light"
     },
     "output_type": "display_data"
    }
   ],
   "source": [
    "# dictionary for successful projects\n",
    "\n",
    "df2_success = df1_success.copy()\n",
    "\n",
    "df2_success['duration'] = (df2_success['deadline'] - df2_success['created_at']) / np.timedelta64(1,'M')\n",
    "new_dict_success = {}\n",
    "\n",
    "for i in range(num_months):\n",
    "    new_dict_success[i] = 0\n",
    "for j in df2_success['duration']:\n",
    "    if round(j) < num_months - 1:\n",
    "        new_dict_success[round(j)] += 1\n",
    "    else:\n",
    "        new_dict_success[num_months - 1] += 1\n",
    "        \n",
    "lst = []\n",
    "for k,v in new_dict_success.items():\n",
    "    for i in range(v):\n",
    "        lst.append(k)\n",
    "\n",
    "dict_distr = {}\n",
    "for i in new_dict_success.keys():\n",
    "    dict_distr[i] = stats.percentileofscore(lst, i)\n",
    "    \n",
    "print(dict_distr)\n",
    "    \n",
    "plt.scatter(dict_distr.keys(),dict_distr.values())\n",
    "plt.xlabel('Number of Months')\n",
    "plt.ylabel('Percentile')\n",
    "plt.title('Percentile of Successful Projects')"
   ]
  },
  {
   "cell_type": "code",
   "execution_count": 193,
   "metadata": {},
   "outputs": [
    {
     "name": "stdout",
     "output_type": "stream",
     "text": [
      "{0: 0.19523869504975438, 1: 16.403199395389848, 2: 48.72465045975564, 3: 71.65260108325985, 4: 81.26338329764454, 5: 86.24511903262376, 6: 89.43821640005038, 7: 91.51656379896713, 8: 93.02808917999748, 9: 94.07985892429777, 10: 94.83877062602343, 11: 95.44338077843557, 12: 95.98186169542764, 13: 96.46680942184155, 14: 96.85728681194105, 15: 97.13754880967376, 16: 97.37372465045975, 17: 97.60045345761431, 18: 97.78939413024311, 19: 98.00667590376622, 20: 98.22710668849982, 21: 98.39400428265525, 22: 98.510517697443, 23: 98.6207330898098, 24: 98.75614057186044, 25: 98.91359113238443, 26: 99.04270059201411, 27: 99.11197883864466, 28: 99.1686610404333, 29: 99.2316412646429, 30: 99.29147247764202, 31: 99.34815467943066, 32: 99.39538984758785, 33: 99.44577402695553, 34: 99.49615820632322, 35: 99.53394634084897, 36: 99.56858546416426, 37: 99.60322458747953, 38: 99.64416173321577, 39: 99.67880085653105, 40: 99.70084393500441, 41: 99.72603602468824, 42: 99.75122811437208, 43: 99.77327119284544, 44: 99.7953142713188, 45: 99.80476130495025, 46: 99.81735734979216, 47: 99.82995339463409, 48: 99.83940042826552, 49: 99.842549439476, 50: 99.85199647310745, 51: 99.86459251794936, 52: 99.87403955158081, 53: 99.88348658521224, 54: 99.89293361884368, 55: 99.90238065247512, 56: 99.91182768610656, 57: 99.92442373094848, 58: 99.93072175336944, 59: 99.94016878700089, 60: 99.9527648318428, 61: 99.95591384305328, 62: 99.96536087668473, 63: 99.97795692152664, 64: 99.98110593273712, 65: 99.98110593273712, 66: 99.98110593273712, 67: 99.99055296636855, 68: 99.99370197757904, 69: 99.99370197757904, 70: 99.99370197757904, 71: 99.99370197757904, 72: 99.99370197757904, 73: 99.99370197757904, 74: 100.0, 75: 100.0, 76: 100.0, 77: 100.0, 78: 100.0, 79: 100.0, 80: 100.0, 81: 100.0, 82: 100.0, 83: 100.0, 84: 100.0, 85: 100.0}\n"
     ]
    },
    {
     "data": {
      "text/plain": [
       "Text(0.5, 1.0, 'Percentile of Failed Projects')"
      ]
     },
     "execution_count": 193,
     "metadata": {},
     "output_type": "execute_result"
    },
    {
     "data": {
      "image/png": "[encoded data removed]",
      "text/plain": [
       "<Figure size 432x288 with 1 Axes>"
      ]
     },
     "metadata": {
      "needs_background": "light"
     },
     "output_type": "display_data"
    }
   ],
   "source": [
    "# dictionary for failed projects\n",
    "\n",
    "df2_fail = df1_fail.copy()\n",
    "df2_fail['duration'] = (df2_fail['deadline'] - df2_fail['created_at']) / np.timedelta64(1,'M')\n",
    "new_dict_fail = {}\n",
    "\n",
    "for i in range(num_months):\n",
    "    new_dict_fail[i] = 0\n",
    "for j in df2_fail['duration']:\n",
    "    if round(j) < num_months - 1:\n",
    "        new_dict_fail[round(j)] += 1\n",
    "    else:\n",
    "        new_dict_fail[num_months - 1] += 1\n",
    "\n",
    "lst = []\n",
    "for k,v in new_dict_fail.items():\n",
    "    for i in range(v):\n",
    "        lst.append(k)\n",
    "\n",
    "dict_distr = {}\n",
    "for i in new_dict_fail.keys():\n",
    "    dict_distr[i] = stats.percentileofscore(lst, i)\n",
    "    \n",
    "print(dict_distr)\n",
    "    \n",
    "plt.scatter(dict_distr.keys(),dict_distr.values())\n",
    "plt.xlabel('Number of Months')\n",
    "plt.ylabel('Percentile')\n",
    "plt.title('Percentile of Failed Projects')"
   ]
  },
  {
   "cell_type": "code",
   "execution_count": 47,
   "metadata": {},
   "outputs": [],
   "source": [
    "# dictionary for probability of success\n",
    "new_dict_success_rate = {}\n",
    "\n",
    "for i in new_dict.keys():\n",
    "    if new_dict[i] > 20: # sufficient number of projects with that duration\n",
    "        new_dict_success_rate[i] = new_dict_success[i] / new_dict[i]"
   ]
  },
  {
   "cell_type": "code",
   "execution_count": 48,
   "metadata": {},
   "outputs": [
    {
     "data": {
      "image/png": "[encoded data removed]",
      "text/plain": [
       "<Figure size 1080x720 with 4 Axes>"
      ]
     },
     "metadata": {
      "needs_background": "light"
     },
     "output_type": "display_data"
    }
   ],
   "source": [
    "path3 = \"../Desktop/cleaned_kickstarter_plots/\"\n",
    "\n",
    "fig = plt.figure(figsize=(15, 10))\n",
    "\n",
    "# PLOT DURATION VS NUMBER OF PROEJCTS\n",
    "plt.subplot(2, 2, 1)\n",
    "plt.scatter(new_dict.keys(),new_dict.values())\n",
    "plt.xlabel('Number of Months')\n",
    "plt.ylabel('Projects')\n",
    "plt.title('Duration of Projects')\n",
    "\n",
    "# PLOT DURATION VS NUMBER OF SUCCESSFUL PROEJCTS\n",
    "plt.subplot(2, 2, 2)\n",
    "plt.scatter(new_dict_success.keys(),new_dict_success.values())\n",
    "plt.xlabel('Number of Months')\n",
    "plt.ylabel('Projects')\n",
    "plt.title('Duration of Successful Projects')\n",
    "\n",
    "# PLOT DURATION VS NUMBER OF FAILED PROEJCTS\n",
    "plt.subplot(2, 2, 3)\n",
    "plt.scatter(new_dict_fail.keys(),new_dict_fail.values())\n",
    "plt.xlabel('Number of Months')\n",
    "plt.ylabel('Projects')\n",
    "plt.title('Duration of Failed Projects')\n",
    "\n",
    "# PLOT DURATION VS SUCCESS RATE\n",
    "plt.subplot(2, 2, 4)\n",
    "plt.scatter(new_dict_success_rate.keys(),new_dict_success_rate.values())\n",
    "plt.xlabel('Number of Months')\n",
    "plt.ylabel('Probability of Success')\n",
    "plt.title('Duration vs. Probability of Success')\n",
    "\n",
    "plt.tight_layout()\n",
    "\n",
    "plt.savefig(path3 + 'Monthy_duration_number_success_fail_prob_success.png')"
   ]
  },
  {
   "cell_type": "code",
   "execution_count": null,
   "metadata": {},
   "outputs": [],
   "source": []
  },
  {
   "cell_type": "code",
   "execution_count": null,
   "metadata": {},
   "outputs": [],
   "source": []
  },
  {
   "cell_type": "code",
   "execution_count": null,
   "metadata": {},
   "outputs": [],
   "source": []
  }
 ],
 "metadata": {
  "kernelspec": {
   "display_name": "Python 3",
   "language": "python",
   "name": "python3"
  },
  "language_info": {
   "codemirror_mode": {
    "name": "ipython",
    "version": 3
   },
   "file_extension": ".py",
   "mimetype": "text/x-python",
   "name": "python",
   "nbconvert_exporter": "python",
   "pygments_lexer": "ipython3",
   "version": "3.6.8"
  }
 },
 "nbformat": 4,
 "nbformat_minor": 2
}
